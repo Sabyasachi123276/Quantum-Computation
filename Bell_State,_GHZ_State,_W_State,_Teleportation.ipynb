{
  "nbformat": 4,
  "nbformat_minor": 0,
  "metadata": {
    "colab": {
      "provenance": []
    },
    "kernelspec": {
      "name": "python3",
      "display_name": "Python 3"
    },
    "language_info": {
      "name": "python"
    }
  },
  "cells": [
    {
      "cell_type": "markdown",
      "source": [
        "The Python code for generating this particular **Bell state (state = \"00\")** using qutip is given below."
      ],
      "metadata": {
        "id": "TI6QPBAh2tJE"
      }
    },
    {
      "cell_type": "code",
      "execution_count": 1,
      "metadata": {
        "colab": {
          "base_uri": "https://localhost:8080/"
        },
        "id": "seXL907wPl63",
        "outputId": "c6a65c79-cddb-4595-f059-bd8537dd7264"
      },
      "outputs": [
        {
          "output_type": "stream",
          "name": "stdout",
          "text": [
            "Looking in indexes: https://pypi.org/simple, https://us-python.pkg.dev/colab-wheels/public/simple/\n",
            "Collecting qutip\n",
            "  Downloading qutip-4.7.1-cp39-cp39-manylinux_2_17_x86_64.manylinux2014_x86_64.whl (16.4 MB)\n",
            "\u001b[2K     \u001b[90m━━━━━━━━━━━━━━━━━━━━━━━━━━━━━━━━━━━━━━━━\u001b[0m \u001b[32m16.4/16.4 MB\u001b[0m \u001b[31m41.3 MB/s\u001b[0m eta \u001b[36m0:00:00\u001b[0m\n",
            "\u001b[?25hRequirement already satisfied: packaging in /usr/local/lib/python3.9/dist-packages (from qutip) (23.0)\n",
            "Requirement already satisfied: numpy>=1.16.6 in /usr/local/lib/python3.9/dist-packages (from qutip) (1.22.4)\n",
            "Requirement already satisfied: scipy>=1.0 in /usr/local/lib/python3.9/dist-packages (from qutip) (1.10.1)\n",
            "Installing collected packages: qutip\n",
            "Successfully installed qutip-4.7.1\n",
            " A matrix for Bell pair generation is:\n",
            " Quantum object: dims = [[2, 2], [1, 1]], shape = (4, 1), type = ket\n",
            "Qobj data =\n",
            "[[0.70710678]\n",
            " [0.        ]\n",
            " [0.        ]\n",
            " [0.70710678]]\n"
          ]
        }
      ],
      "source": [
        "!pip install qutip\n",
        "from qutip import *\n",
        "w1 = bell_state(state=\"00\")\n",
        "print(\" A matrix for Bell pair generation is:\\n\", w1)"
      ]
    },
    {
      "cell_type": "markdown",
      "source": [
        "The Python code for generating the **Bell states** using qutip is given below."
      ],
      "metadata": {
        "id": "GNQLBv6q2cME"
      }
    },
    {
      "cell_type": "code",
      "source": [
        "from qutip import *\n",
        "v_00 = bell_state(state=\"00\")\n",
        "v_01 = bell_state(state=\"01\")\n",
        "v_10 = bell_state(state=\"10\")\n",
        "v_11 = bell_state(state=\"11\")\n",
        "print(\"v_00 is:\", v_00)\n",
        "print(\"v_01 is:\", v_01)\n",
        "print(\"v_10 is:\", v_10)\n",
        "print(\"v_11 is:\", v_11)"
      ],
      "metadata": {
        "colab": {
          "base_uri": "https://localhost:8080/"
        },
        "id": "_xklhad6RS0V",
        "outputId": "dbb0bd40-6082-46d9-94c4-a3aa0a60ed14"
      },
      "execution_count": null,
      "outputs": [
        {
          "output_type": "stream",
          "name": "stdout",
          "text": [
            "v_00 is: Quantum object: dims = [[2, 2], [1, 1]], shape = (4, 1), type = ket\n",
            "Qobj data =\n",
            "[[0.70710678]\n",
            " [0.        ]\n",
            " [0.        ]\n",
            " [0.70710678]]\n",
            "v_01 is: Quantum object: dims = [[2, 2], [1, 1]], shape = (4, 1), type = ket\n",
            "Qobj data =\n",
            "[[ 0.70710678]\n",
            " [ 0.        ]\n",
            " [ 0.        ]\n",
            " [-0.70710678]]\n",
            "v_10 is: Quantum object: dims = [[2, 2], [1, 1]], shape = (4, 1), type = ket\n",
            "Qobj data =\n",
            "[[0.        ]\n",
            " [0.70710678]\n",
            " [0.70710678]\n",
            " [0.        ]]\n",
            "v_11 is: Quantum object: dims = [[2, 2], [1, 1]], shape = (4, 1), type = ket\n",
            "Qobj data =\n",
            "[[ 0.        ]\n",
            " [ 0.70710678]\n",
            " [-0.70710678]\n",
            " [ 0.        ]]\n"
          ]
        }
      ]
    },
    {
      "cell_type": "markdown",
      "source": [
        "The Python code snippet of a **three-qubit GHZ state** using qutip is shown as follows:"
      ],
      "metadata": {
        "id": "oc1BphkHTmcP"
      }
    },
    {
      "cell_type": "code",
      "source": [
        "from qutip import *\n",
        "GHZ = ghz_state(N=3)\n",
        "print(GHZ)"
      ],
      "metadata": {
        "colab": {
          "base_uri": "https://localhost:8080/"
        },
        "id": "d4P32rueSPox",
        "outputId": "645d9690-6c71-4b00-ba8e-e48fab9eca3a"
      },
      "execution_count": null,
      "outputs": [
        {
          "output_type": "stream",
          "name": "stdout",
          "text": [
            "Quantum object: dims = [[2, 2, 2], [1, 1, 1]], shape = (8, 1), type = ket\n",
            "Qobj data =\n",
            "[[0.70710678]\n",
            " [0.        ]\n",
            " [0.        ]\n",
            " [0.        ]\n",
            " [0.        ]\n",
            " [0.        ]\n",
            " [0.        ]\n",
            " [0.70710678]]\n"
          ]
        }
      ]
    },
    {
      "cell_type": "markdown",
      "source": [
        "The Python code snippet for generating the **three-qubit W state** using qutip and\n",
        "numpy is shown here:"
      ],
      "metadata": {
        "id": "ZtUCeshpT8U5"
      }
    },
    {
      "cell_type": "code",
      "source": [
        "from qutip import *\n",
        "import numpy as np\n",
        "a = np.array([[1], [0]])\n",
        "b = np.array([[0], [1]])\n",
        "a = Qobj(a)\n",
        "b = Qobj(b)\n",
        "W = (1/np.sqrt(3))* (tensor(b, a, a) + \\\n",
        "tensor(a, b, a) + \\\n",
        "tensor(a, a, b))\n",
        "print(\"The W state is:\", W)"
      ],
      "metadata": {
        "colab": {
          "base_uri": "https://localhost:8080/"
        },
        "id": "tNre429fTRd0",
        "outputId": "ac9fe7bb-7480-4c00-8d17-8b37e7a60696"
      },
      "execution_count": null,
      "outputs": [
        {
          "output_type": "stream",
          "name": "stdout",
          "text": [
            "The W state is: Quantum object: dims = [[2, 2, 2], [1, 1, 1]], shape = (8, 1), type = ket\n",
            "Qobj data =\n",
            "[[0.        ]\n",
            " [0.57735027]\n",
            " [0.57735027]\n",
            " [0.        ]\n",
            " [0.57735027]\n",
            " [0.        ]\n",
            " [0.        ]\n",
            " [0.        ]]\n"
          ]
        }
      ]
    },
    {
      "cell_type": "markdown",
      "source": [
        "As can be observed, the preceding code uses two modules, namely, qutip and numpy.\n",
        "numpy is used to create two vectors, namely, a and b, using the array() function. These\n",
        "vectors are then converted into the qutip objects using the Qobj() function. Then, the\n",
        "W state is generated, and the W variable is assigned to such a state."
      ],
      "metadata": {
        "id": "qzU-__jBUfYh"
      }
    },
    {
      "cell_type": "markdown",
      "source": [
        "Using IBM's Qiskit platform and Google's Colab environment, the following Python code\n",
        "can be used to implement **quantum teleportation**:"
      ],
      "metadata": {
        "id": "ApTIfvVFZ-Cl"
      }
    },
    {
      "cell_type": "code",
      "source": [
        "!pip install qiskit\n",
        "from qiskit import *\n",
        "from qiskit.visualization import plot_histogram\n",
        "circuit = QuantumCircuit(3,3)\n",
        "circuit.h(0)\n",
        "circuit.h(1)\n",
        "circuit.cx(1,2)\n",
        "circuit.cx(0,1)\n",
        "circuit.h(0)\n",
        "circuit.measure([0, 1], [0, 1])\n",
        "circuit.cx(1, 2)\n",
        "circuit.cz(0, 2)\n",
        "circuit.measure([2], [2])\n",
        "circuit.draw(output='text')\n",
        "simulator = Aer.get_backend('qasm_simulator')\n",
        "result = execute(circuit, backend=simulator,\n",
        "shots=1024).result()\n",
        "plot_histogram(result.get_counts(circuit))"
      ],
      "metadata": {
        "colab": {
          "base_uri": "https://localhost:8080/",
          "height": 881
        },
        "id": "Gzc6-6BxWFez",
        "outputId": "959dd97a-b3e6-495d-e3e2-cbf8038a25ba"
      },
      "execution_count": null,
      "outputs": [
        {
          "output_type": "stream",
          "name": "stdout",
          "text": [
            "Looking in indexes: https://pypi.org/simple, https://us-python.pkg.dev/colab-wheels/public/simple/\n",
            "Requirement already satisfied: qiskit in /usr/local/lib/python3.8/dist-packages (0.41.1)\n",
            "Requirement already satisfied: qiskit-ibmq-provider==0.20.1 in /usr/local/lib/python3.8/dist-packages (from qiskit) (0.20.1)\n",
            "Requirement already satisfied: qiskit-terra==0.23.2 in /usr/local/lib/python3.8/dist-packages (from qiskit) (0.23.2)\n",
            "Requirement already satisfied: qiskit-aer==0.11.2 in /usr/local/lib/python3.8/dist-packages (from qiskit) (0.11.2)\n",
            "Requirement already satisfied: scipy>=1.0 in /usr/local/lib/python3.8/dist-packages (from qiskit-aer==0.11.2->qiskit) (1.10.1)\n",
            "Requirement already satisfied: numpy>=1.16.3 in /usr/local/lib/python3.8/dist-packages (from qiskit-aer==0.11.2->qiskit) (1.22.4)\n",
            "Requirement already satisfied: python-dateutil~=2.8.0 in /usr/local/lib/python3.8/dist-packages (from qiskit-ibmq-provider==0.20.1->qiskit) (2.8.2)\n",
            "Requirement already satisfied: requests-ntlm~=1.1.0 in /usr/local/lib/python3.8/dist-packages (from qiskit-ibmq-provider==0.20.1->qiskit) (1.1.0)\n",
            "Requirement already satisfied: websocket-client~=1.5.1 in /usr/local/lib/python3.8/dist-packages (from qiskit-ibmq-provider==0.20.1->qiskit) (1.5.1)\n",
            "Requirement already satisfied: urllib3~=1.26.0 in /usr/local/lib/python3.8/dist-packages (from qiskit-ibmq-provider==0.20.1->qiskit) (1.26.14)\n",
            "Requirement already satisfied: requests~=2.28.0 in /usr/local/lib/python3.8/dist-packages (from qiskit-ibmq-provider==0.20.1->qiskit) (2.28.2)\n",
            "Requirement already satisfied: websockets~=10.0 in /usr/local/lib/python3.8/dist-packages (from qiskit-ibmq-provider==0.20.1->qiskit) (10.4)\n",
            "Requirement already satisfied: sympy>=1.3 in /usr/local/lib/python3.8/dist-packages (from qiskit-terra==0.23.2->qiskit) (1.7.1)\n",
            "Requirement already satisfied: dill>=0.3 in /usr/local/lib/python3.8/dist-packages (from qiskit-terra==0.23.2->qiskit) (0.3.6)\n",
            "Requirement already satisfied: symengine>=0.9 in /usr/local/lib/python3.8/dist-packages (from qiskit-terra==0.23.2->qiskit) (0.9.2)\n",
            "Requirement already satisfied: stevedore>=3.0.0 in /usr/local/lib/python3.8/dist-packages (from qiskit-terra==0.23.2->qiskit) (5.0.0)\n",
            "Requirement already satisfied: rustworkx>=0.12.0 in /usr/local/lib/python3.8/dist-packages (from qiskit-terra==0.23.2->qiskit) (0.12.1)\n",
            "Requirement already satisfied: psutil>=5 in /usr/local/lib/python3.8/dist-packages (from qiskit-terra==0.23.2->qiskit) (5.4.8)\n",
            "Requirement already satisfied: ply>=3.10 in /usr/local/lib/python3.8/dist-packages (from qiskit-terra==0.23.2->qiskit) (3.11)\n",
            "Requirement already satisfied: six>=1.5 in /usr/local/lib/python3.8/dist-packages (from python-dateutil~=2.8.0->qiskit-ibmq-provider==0.20.1->qiskit) (1.15.0)\n",
            "Requirement already satisfied: certifi>=2017.4.17 in /usr/local/lib/python3.8/dist-packages (from requests~=2.28.0->qiskit-ibmq-provider==0.20.1->qiskit) (2022.12.7)\n",
            "Requirement already satisfied: charset-normalizer<4,>=2 in /usr/local/lib/python3.8/dist-packages (from requests~=2.28.0->qiskit-ibmq-provider==0.20.1->qiskit) (3.0.1)\n",
            "Requirement already satisfied: idna<4,>=2.5 in /usr/local/lib/python3.8/dist-packages (from requests~=2.28.0->qiskit-ibmq-provider==0.20.1->qiskit) (2.10)\n",
            "Requirement already satisfied: ntlm-auth>=1.0.2 in /usr/local/lib/python3.8/dist-packages (from requests-ntlm~=1.1.0->qiskit-ibmq-provider==0.20.1->qiskit) (1.5.0)\n",
            "Requirement already satisfied: cryptography>=1.3 in /usr/local/lib/python3.8/dist-packages (from requests-ntlm~=1.1.0->qiskit-ibmq-provider==0.20.1->qiskit) (39.0.2)\n",
            "Requirement already satisfied: pbr!=2.1.0,>=2.0.0 in /usr/local/lib/python3.8/dist-packages (from stevedore>=3.0.0->qiskit-terra==0.23.2->qiskit) (5.11.1)\n",
            "Requirement already satisfied: mpmath>=0.19 in /usr/local/lib/python3.8/dist-packages (from sympy>=1.3->qiskit-terra==0.23.2->qiskit) (1.2.1)\n",
            "Requirement already satisfied: cffi>=1.12 in /usr/local/lib/python3.8/dist-packages (from cryptography>=1.3->requests-ntlm~=1.1.0->qiskit-ibmq-provider==0.20.1->qiskit) (1.15.1)\n",
            "Requirement already satisfied: pycparser in /usr/local/lib/python3.8/dist-packages (from cffi>=1.12->cryptography>=1.3->requests-ntlm~=1.1.0->qiskit-ibmq-provider==0.20.1->qiskit) (2.21)\n"
          ]
        },
        {
          "output_type": "execute_result",
          "data": {
            "text/plain": [
              "<Figure size 504x360 with 1 Axes>"
            ],
            "image/png": "[encoded data removed]"
          },
          "metadata": {},
          "execution_count": 7
        }
      ]
    },
    {
      "cell_type": "markdown",
      "source": [
        "The code can be summarized as follows. The code uses the qiskit Python module.\n",
        "After importing the qiskit module into the workspace, the circuit is instantiated\n",
        "using the QuantumCircuit() function, and the circuit variable is assigned to this\n",
        "instantiated circuit. This circuit uses three quantum registers and three classical registers.\n",
        "After instantiating the circuit, the unitary circuits are then applied to the quantum states.\n",
        "Finally, a measurement is performed and the results stored in the classical registers. The\n",
        "final part of the code, starting from the circuit.draw(output='text') statement\n",
        "to the end, is just used for the visualization of the quantum teleportation circuit generated."
      ],
      "metadata": {
        "id": "d31gwYQjXKkj"
      }
    }
  ]
}