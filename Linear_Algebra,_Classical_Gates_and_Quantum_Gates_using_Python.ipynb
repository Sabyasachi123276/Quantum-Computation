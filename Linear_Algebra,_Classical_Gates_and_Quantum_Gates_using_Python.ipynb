{
  "nbformat": 4,
  "nbformat_minor": 0,
  "metadata": {
    "colab": {
      "provenance": []
    },
    "kernelspec": {
      "name": "python3",
      "display_name": "Python 3"
    },
    "language_info": {
      "name": "python"
    }
  },
  "cells": [
    {
      "cell_type": "markdown",
      "source": [
        "Vectors, matrices, and tensors can be created and manipulated in Python. One of the most\n",
        "prominent Python packages used for linear algebra is NumPy. The following code snippet\n",
        "shows how vectors, matrices, and tensors can be created using NumPy:"
      ],
      "metadata": {
        "id": "4ACqurSSE93o"
      }
    },
    {
      "cell_type": "code",
      "execution_count": null,
      "metadata": {
        "colab": {
          "base_uri": "https://localhost:8080/"
        },
        "id": "4kD5y9fW74_m",
        "outputId": "f20eb66d-55ee-4ddd-d29d-0a7c654900f3"
      },
      "outputs": [
        {
          "output_type": "stream",
          "name": "stdout",
          "text": [
            "[[ 1  2  3  2  4  6  3  6  9]\n",
            " [ 4  5  6  8 10 12 12 15 18]\n",
            " [ 7  5  6 14 10 12 21 15 18]]\n",
            "[[ 8 12 16 10 15 20 12 18 24]\n",
            " [ 4  8  0  5 10  0  6 12  0]\n",
            " [12 12 12 15 15 15 18 18 18]]\n"
          ]
        }
      ],
      "source": [
        "import numpy as np\n",
        "x = np.array([1,2,3]) # a vector with three components.\n",
        "y = np.array([4,5,6]) # another vector.\n",
        "A = np.array([[1,2,3], [4,5,6], [7,5,6]]) # a 3x3 matrix.\n",
        "B = np.array([[2,3,4], [1,2,0], [3,3,3]]) # another 3x3 matrix.\n",
        "v = np.kron(x,A) # a tensor product of vector x and matrix A.\n",
        "print(v)\n",
        "w = np.kron(y,B) # a tensor product of vector y and matrix B.\n",
        "print(w)"
      ]
    },
    {
      "cell_type": "markdown",
      "source": [
        "The preceding code snippet can be explained as follows:\n",
        "1. First, numpy is imported using the alias np.\n",
        "2. Then, two vectors, x and y, are created using the array() function from numpy.\n",
        "3. This is followed by the creation of two matrices, A and B.\n",
        "4. Finally, two tensor products, v and w, are created using the kron() function from\n",
        "numpy.\n",
        "The former (tensor product v) is the tensor product of vector x and matrix A, while\n",
        "the latter (tensor product w) is the tensor product of vector y and matrix B.\n",
        "Arithmetic operations, such as addition, subtraction, and scalar multiplication, can be\n",
        "performed on the vectors. The same is also true of matrices and tensors. The following\n",
        "code snippet shows some examples of arithmetic operations on vectors, matrices, and\n",
        "tensors:"
      ],
      "metadata": {
        "id": "8r4uvzcAGkK_"
      }
    },
    {
      "cell_type": "code",
      "source": [
        "# Arithmetic operations\n",
        "#vectors\n",
        "z1 = x + y # vector addition\n",
        "print(z1)\n",
        "z2 = x - y # vector subtraction\n",
        "print(z2)\n",
        "z3 = 2 * z1 # scalar multiplication\n",
        "print(z3)\n",
        "#matrices\n",
        "C1 = A * B # matrix multiplication\n",
        "print(C1)\n",
        "C2 = x * A # a product of a vector and a matrix\n",
        "print(C2)\n",
        "#tensors\n",
        "u = v + w # tensor addition\n",
        "print(u)\n",
        "u1 = 5 * u # multiplication of a tensor by a scalar\n",
        "print(u1)"
      ],
      "metadata": {
        "colab": {
          "base_uri": "https://localhost:8080/"
        },
        "id": "QyZzhGDxGa7O",
        "outputId": "bfd8f6a3-b776-4859-bfb6-c472a949df78"
      },
      "execution_count": null,
      "outputs": [
        {
          "output_type": "stream",
          "name": "stdout",
          "text": [
            "[5 7 9]\n",
            "[-3 -3 -3]\n",
            "[10 14 18]\n",
            "[[ 2  6 12]\n",
            " [ 4 10  0]\n",
            " [21 15 18]]\n",
            "[[ 1  4  9]\n",
            " [ 4 10 18]\n",
            " [ 7 10 18]]\n",
            "[[ 9 14 19 12 19 26 15 24 33]\n",
            " [ 8 13  6 13 20 12 18 27 18]\n",
            " [19 17 18 29 25 27 39 33 36]]\n",
            "[[ 45  70  95  60  95 130  75 120 165]\n",
            " [ 40  65  30  65 100  60  90 135  90]\n",
            " [ 95  85  90 145 125 135 195 165 180]]\n"
          ]
        }
      ]
    },
    {
      "cell_type": "markdown",
      "source": [
        "The output of a dot product is a scalar. The Python code for computing an inner\n",
        "product for two vectors using numpy is as follows:"
      ],
      "metadata": {
        "id": "j_7rNbxkHqWQ"
      }
    },
    {
      "cell_type": "code",
      "source": [
        "import numpy as np\n",
        "x = np.array([1,2,3]) # a vector with three components.\n",
        "y = np.array([4,5,6]) # another vector.\n",
        "# The output of an inner product of vectors is a scalar\n",
        "a = np.inner(x,y)\n",
        "print(a)"
      ],
      "metadata": {
        "colab": {
          "base_uri": "https://localhost:8080/"
        },
        "id": "FjDEfU3RHtLo",
        "outputId": "4d4e3f82-be06-4f96-aa77-dd6f9b6b1cf4"
      },
      "execution_count": null,
      "outputs": [
        {
          "output_type": "stream",
          "name": "stdout",
          "text": [
            "32\n"
          ]
        }
      ]
    },
    {
      "cell_type": "markdown",
      "source": [
        "The preceding code snippet imports numpy (using the alias np). Then it creates two\n",
        "vectors, x and y. Finally, the inner product of these two vectors is calculated using\n",
        "the inner() function from numpy. The Python code snippet\n",
        "for computing an outer product of two vectors is shown as follows:"
      ],
      "metadata": {
        "id": "oEWi_tBjH5jC"
      }
    },
    {
      "cell_type": "code",
      "source": [
        "import numpy as np\n",
        "x = np.array([1,2,3]) # a vector with three components.\n",
        "y = np.array([4,5,6]) # another vector.\n",
        "# The output of an outer product of vectors is a matrix\n",
        "a = np.outer(x,y)\n",
        "print(a)"
      ],
      "metadata": {
        "colab": {
          "base_uri": "https://localhost:8080/"
        },
        "id": "xMe-ZJ7ELt4M",
        "outputId": "cd09a2dd-15f3-4343-b043-9a6aa8b1f867"
      },
      "execution_count": null,
      "outputs": [
        {
          "output_type": "stream",
          "name": "stdout",
          "text": [
            "[[ 4  5  6]\n",
            " [ 8 10 12]\n",
            " [12 15 18]]\n"
          ]
        }
      ]
    },
    {
      "cell_type": "markdown",
      "source": [
        "This code uses numpy to create two vectors, x and y. Then it uses the outer()\n",
        "function from numpy in order to compute the outer product of vectors x and y."
      ],
      "metadata": {
        "id": "-PNiZ9MtMroj"
      }
    },
    {
      "cell_type": "markdown",
      "source": [
        "The Python code snippet for computing the determinant of a matrix is given as\n",
        "follows:"
      ],
      "metadata": {
        "id": "2wBB-Ud0Oi2k"
      }
    },
    {
      "cell_type": "code",
      "source": [
        "import numpy as np\n",
        "A = np.array([[1,2,3], [4,5,6], [1,5,1]]) # a 3x3 matrix.\n",
        "det_A = np.linalg.det(A)\n",
        "print(det_A)"
      ],
      "metadata": {
        "colab": {
          "base_uri": "https://localhost:8080/"
        },
        "id": "7ApG-Gz5OgfJ",
        "outputId": "fe5310ca-80d2-4a67-d8f7-5cb5e41bd423"
      },
      "execution_count": null,
      "outputs": [
        {
          "output_type": "stream",
          "name": "stdout",
          "text": [
            "24.000000000000004\n"
          ]
        }
      ]
    },
    {
      "cell_type": "markdown",
      "source": [
        "The preceding code uses the linalg.det() function from numpy in order to\n",
        "compute the determinant of the matrix A."
      ],
      "metadata": {
        "id": "R6SARD7kOo77"
      }
    },
    {
      "cell_type": "markdown",
      "source": [
        "A Python code for a matrix transpose is shown as follows, using numpy:"
      ],
      "metadata": {
        "id": "CUU0TyThO_fx"
      }
    },
    {
      "cell_type": "code",
      "source": [
        "A1=np.transpose(A)\n",
        "print(A1)"
      ],
      "metadata": {
        "colab": {
          "base_uri": "https://localhost:8080/"
        },
        "id": "EZ9jCFe1PFCu",
        "outputId": "301a190d-d5f3-4e52-a7b8-09b37bd09fe4"
      },
      "execution_count": null,
      "outputs": [
        {
          "output_type": "stream",
          "name": "stdout",
          "text": [
            "[[1 4 1]\n",
            " [2 5 5]\n",
            " [3 6 1]]\n"
          ]
        }
      ]
    },
    {
      "cell_type": "markdown",
      "source": [
        "The preceding code uses the transpose() function from numpy in order to\n",
        "compute the transpose of the matrix A."
      ],
      "metadata": {
        "id": "FkmTMg-mPQ-T"
      }
    },
    {
      "cell_type": "markdown",
      "source": [
        "The calculation of the eigenvalues and eigenvectors in Python is fairly easy. The main built-in function in Python to solve the eigenvalue/eigenvector problem for a square array is the eig function in numpy.linalg. Let’s see how we can use it."
      ],
      "metadata": {
        "id": "HBZ2HaWKoSp0"
      }
    },
    {
      "cell_type": "code",
      "source": [
        "import numpy as np\n",
        "from numpy.linalg import eig\n",
        "\n",
        "a = np.array([[0, 2], \n",
        "              [2, 3]])\n",
        "w,v=eig(a)\n",
        "print('E-value:', w)\n",
        "print('E-vector', v)"
      ],
      "metadata": {
        "colab": {
          "base_uri": "https://localhost:8080/"
        },
        "id": "bhc71mryoITs",
        "outputId": "f194daff-6069-4939-b2ec-e77790834fd3"
      },
      "execution_count": null,
      "outputs": [
        {
          "output_type": "stream",
          "name": "stdout",
          "text": [
            "E-value: [-1.  4.]\n",
            "E-vector [[-0.89442719 -0.4472136 ]\n",
            " [ 0.4472136  -0.89442719]]\n"
          ]
        }
      ]
    },
    {
      "cell_type": "code",
      "source": [
        "a = np.array([[2, 2, 4], \n",
        "              [1, 3, 5],\n",
        "              [2, 3, 4]])\n",
        "w,v=eig(a)\n",
        "print('E-value:', w)\n",
        "print('E-vector', v)"
      ],
      "metadata": {
        "colab": {
          "base_uri": "https://localhost:8080/"
        },
        "id": "o7Ok2hKLpCfu",
        "outputId": "689a8ddb-dbba-4e01-9291-c9543511a3eb"
      },
      "execution_count": null,
      "outputs": [
        {
          "output_type": "stream",
          "name": "stdout",
          "text": [
            "E-value: [ 8.80916362  0.92620912 -0.73537273]\n",
            "E-vector [[-0.52799324 -0.77557092 -0.36272811]\n",
            " [-0.604391    0.62277013 -0.7103262 ]\n",
            " [-0.59660259 -0.10318482  0.60321224]]\n"
          ]
        }
      ]
    },
    {
      "cell_type": "code",
      "source": [
        "!pip install qutip\n",
        "from qutip import *\n",
        "import numpy as np\n",
        "A = np.array([[2,3], [4,5]])\n",
        "B = np.array([[2,4], [1,0]])\n",
        "A = Qobj(A); B = Qobj(B)\n",
        "# computing tensor product using qutip\n",
        "C = tensor(A,B); print(C)\n",
        "#computing tensor product using numpy\n",
        "D = np.kron(A,B); print(D)"
      ],
      "metadata": {
        "colab": {
          "base_uri": "https://localhost:8080/"
        },
        "id": "syh86YpGSTID",
        "outputId": "4152a686-80c4-4009-ab0b-35a2148caaf0"
      },
      "execution_count": null,
      "outputs": [
        {
          "output_type": "stream",
          "name": "stdout",
          "text": [
            "Looking in indexes: https://pypi.org/simple, https://us-python.pkg.dev/colab-wheels/public/simple/\n",
            "Collecting qutip\n",
            "  Downloading qutip-4.7.1-cp38-cp38-manylinux_2_17_x86_64.manylinux2014_x86_64.whl (16.7 MB)\n",
            "\u001b[2K     \u001b[90m━━━━━━━━━━━━━━━━━━━━━━━━━━━━━━━━━━━━━━━━\u001b[0m \u001b[32m16.7/16.7 MB\u001b[0m \u001b[31m55.0 MB/s\u001b[0m eta \u001b[36m0:00:00\u001b[0m\n",
            "\u001b[?25hRequirement already satisfied: scipy>=1.0 in /usr/local/lib/python3.8/dist-packages (from qutip) (1.7.3)\n",
            "Requirement already satisfied: numpy>=1.16.6 in /usr/local/lib/python3.8/dist-packages (from qutip) (1.22.4)\n",
            "Requirement already satisfied: packaging in /usr/local/lib/python3.8/dist-packages (from qutip) (23.0)\n",
            "Installing collected packages: qutip\n",
            "Successfully installed qutip-4.7.1\n",
            "Quantum object: dims = [[2, 2], [2, 2]], shape = (4, 4), type = oper, isherm = False\n",
            "Qobj data =\n",
            "[[ 4.  8.  6. 12.]\n",
            " [ 2.  0.  3.  0.]\n",
            " [ 8. 16. 10. 20.]\n",
            " [ 4.  0.  5.  0.]]\n",
            "[[ 4.+0.j  8.+0.j  6.+0.j 12.+0.j]\n",
            " [ 2.+0.j  0.+0.j  3.+0.j  0.+0.j]\n",
            " [ 8.+0.j 16.+0.j 10.+0.j 20.+0.j]\n",
            " [ 4.+0.j  0.+0.j  5.+0.j  0.+0.j]]\n"
          ]
        }
      ]
    },
    {
      "cell_type": "markdown",
      "source": [
        "The code uses two modules, namely, qutip and numpy. First, two matrices A and B are\n",
        "created using numpy. These matrices are also converted into qutip objects by using the\n",
        "Qobj() function. Then, the tensor product is computed using both qutip and numpy.\n",
        "For the former, the tensor() function is used, while for the latter, the kron() function\n",
        "is used."
      ],
      "metadata": {
        "id": "ZfZcyJqBSqR4"
      }
    },
    {
      "cell_type": "code",
      "source": [
        "from qutip import *\n",
        "import numpy as np\n",
        "A = np.array([[2,3], [4,5]])\n",
        "B = np.array([[2,4], [1,1]])\n",
        "# convert the arrays A and B to qutip objects\n",
        "A = Qobj(A); B = Qobj(B)\n",
        "T = tensor(A,B);\n",
        "print(\"The tensor product is\", T)\n",
        "print(\"The trace of T is\", T.tr())\n",
        "Tr_B = T.ptrace(0) # trace out B by selecting A; thus A Tr(B)\n",
        "print(\"Tr_B is\", Tr_B)\n",
        "Tr_A = T.ptrace(1) # trace out A by selecting B; thus B Tr(A)\n",
        "print(\"Tr_A is\", Tr_A)"
      ],
      "metadata": {
        "colab": {
          "base_uri": "https://localhost:8080/"
        },
        "id": "hGtgLIk4T4CT",
        "outputId": "64ab6419-f2f3-4cfb-ff71-e29d2e103229"
      },
      "execution_count": null,
      "outputs": [
        {
          "output_type": "stream",
          "name": "stdout",
          "text": [
            "The tensor product is Quantum object: dims = [[2, 2], [2, 2]], shape = (4, 4), type = oper, isherm = False\n",
            "Qobj data =\n",
            "[[ 4.  8.  6. 12.]\n",
            " [ 2.  2.  3.  3.]\n",
            " [ 8. 16. 10. 20.]\n",
            " [ 4.  4.  5.  5.]]\n",
            "The trace of T is 21.0\n",
            "Tr_B is Quantum object: dims = [[2], [2]], shape = (2, 2), type = oper, isherm = False\n",
            "Qobj data =\n",
            "[[ 6.  9.]\n",
            " [12. 15.]]\n",
            "Tr_A is Quantum object: dims = [[2], [2]], shape = (2, 2), type = oper, isherm = False\n",
            "Qobj data =\n",
            "[[14. 28.]\n",
            " [ 7.  7.]]\n"
          ]
        }
      ]
    },
    {
      "cell_type": "markdown",
      "source": [
        "The code uses two Python modules, qutip and numpy. First, two matrices, A and B,\n",
        "are created using numpy. Then, these matrices are converted into qutip objects. This is\n",
        "followed by computing the tensor product of matrices A and B, and this tensor product\n",
        "is assigned to T. Then, the trace of T is computed using the tr() function from qutip.\n",
        "Finally, using the ptrace() function from qutip, the partial trace is computed."
      ],
      "metadata": {
        "id": "DwkKP-vDVm1m"
      }
    },
    {
      "cell_type": "markdown",
      "source": [
        "The Python code for implementing the X gate in Python using numpy and qutip is\n",
        "shown here:"
      ],
      "metadata": {
        "id": "ZttCq-DGA-LR"
      }
    },
    {
      "cell_type": "code",
      "source": [
        "!pip install qutip\n",
        "from qutip import *\n",
        "import numpy as np\n",
        "A = np.array([[1], [0]])\n",
        "B = np.array([[0], [1]])\n",
        "Rho_x = sigmax()\n",
        "A = Qobj(A)\n",
        "B = Qobj(B)\n",
        "C = Rho_x * A\n",
        "print(C)\n",
        "D = Rho_x * B\n",
        "print(D)"
      ],
      "metadata": {
        "colab": {
          "base_uri": "https://localhost:8080/"
        },
        "id": "KIkSq3uuAi-E",
        "outputId": "aa1e01bb-5f60-4954-aa0a-1d5a780f55f2"
      },
      "execution_count": null,
      "outputs": [
        {
          "output_type": "stream",
          "name": "stdout",
          "text": [
            "Looking in indexes: https://pypi.org/simple, https://us-python.pkg.dev/colab-wheels/public/simple/\n",
            "Requirement already satisfied: qutip in /usr/local/lib/python3.8/dist-packages (4.7.1)\n",
            "Requirement already satisfied: numpy>=1.16.6 in /usr/local/lib/python3.8/dist-packages (from qutip) (1.22.4)\n",
            "Requirement already satisfied: scipy>=1.0 in /usr/local/lib/python3.8/dist-packages (from qutip) (1.10.1)\n",
            "Requirement already satisfied: packaging in /usr/local/lib/python3.8/dist-packages (from qutip) (23.0)\n",
            "Quantum object: dims = [[2], [1]], shape = (2, 1), type = ket\n",
            "Qobj data =\n",
            "[[0.]\n",
            " [1.]]\n",
            "Quantum object: dims = [[2], [1]], shape = (2, 1), type = ket\n",
            "Qobj data =\n",
            "[[1.]\n",
            " [0.]]\n"
          ]
        }
      ]
    },
    {
      "cell_type": "markdown",
      "source": [
        "The preceding code uses qutip and numpy. Then, two vectors A and B are created using\n",
        "the array() function from numpy. Then, a new variable called Rho_x is assigned to\n",
        "the X gate using the sigmax() function from qutip. Finally, two variables, C and D, are\n",
        "assigned to the product of Rho_x and A, and the product of Rho_x and B. The variable C\n",
        "is equivalent to applying the X gate to A, while D is equivalent to applying the X gate to B."
      ],
      "metadata": {
        "id": "ua384qz8BCvI"
      }
    },
    {
      "cell_type": "markdown",
      "source": [
        "The Python code for implementing a Z gate is shown as follows:"
      ],
      "metadata": {
        "id": "I1CRhduwDUj3"
      }
    },
    {
      "cell_type": "code",
      "source": [
        "from qutip import *\n",
        "import numpy as np\n",
        "A = np.array([[1], [0]])\n",
        "B = np.array([[0], [1]])\n",
        "Rho_z = sigmaz()\n",
        "A = Qobj(A)\n",
        "B = Qobj(B)\n",
        "C = Rho_z * A\n",
        "D = Rho_z * B\n",
        "print(C)\n",
        "print(D)"
      ],
      "metadata": {
        "colab": {
          "base_uri": "https://localhost:8080/"
        },
        "id": "auT16VxHDZrm",
        "outputId": "35b0058c-25a8-4449-fba2-72b0f518f2ca"
      },
      "execution_count": null,
      "outputs": [
        {
          "output_type": "stream",
          "name": "stdout",
          "text": [
            "Quantum object: dims = [[2], [1]], shape = (2, 1), type = ket\n",
            "Qobj data =\n",
            "[[1.]\n",
            " [0.]]\n",
            "Quantum object: dims = [[2], [1]], shape = (2, 1), type = ket\n",
            "Qobj data =\n",
            "[[ 0.]\n",
            " [-1.]]\n"
          ]
        }
      ]
    },
    {
      "cell_type": "markdown",
      "source": [
        "The preceding code snippet uses the qutip and numpy Python modules to demonstrate\n",
        "the application of the Z gate to two vectors, A and B, and the results of these operations are\n",
        "given as C and D, respectively."
      ],
      "metadata": {
        "id": "ZhV3cTfTETCu"
      }
    },
    {
      "cell_type": "markdown",
      "source": [
        "The Python code for implementing a Y gate is shown as follows:"
      ],
      "metadata": {
        "id": "PEMXKNtAHBWf"
      }
    },
    {
      "cell_type": "code",
      "source": [
        "from qutip import *\n",
        "import numpy as np\n",
        "A = np.array([[1], [0]])\n",
        "B = np.array([[0], [1]])\n",
        "Rho_y = sigmay()\n",
        "A = Qobj(A)\n",
        "B = Qobj(B)\n",
        "C = Rho_y * A\n",
        "D = Rho_y * B\n",
        "print(C)\n",
        "print(D)"
      ],
      "metadata": {
        "colab": {
          "base_uri": "https://localhost:8080/"
        },
        "id": "hGI3tFVoGZGN",
        "outputId": "516d1981-9a48-40dd-e4ae-5bfca813dc6b"
      },
      "execution_count": null,
      "outputs": [
        {
          "output_type": "stream",
          "name": "stdout",
          "text": [
            "Quantum object: dims = [[2], [1]], shape = (2, 1), type = ket\n",
            "Qobj data =\n",
            "[[0.+0.j]\n",
            " [0.+1.j]]\n",
            "Quantum object: dims = [[2], [1]], shape = (2, 1), type = ket\n",
            "Qobj data =\n",
            "[[0.-1.j]\n",
            " [0.+0.j]]\n"
          ]
        }
      ]
    },
    {
      "cell_type": "markdown",
      "source": [
        "The preceding code snippet uses the qutip and numpy Python modules to demonstrate\n",
        "the application of the Y gate to two vectors, A and B, and the results of these operations are\n",
        "given as C and D, respectively."
      ],
      "metadata": {
        "id": "filJnYY7GzP6"
      }
    },
    {
      "cell_type": "markdown",
      "source": [
        "The Python code for implementing the identity gate is shown as follows:"
      ],
      "metadata": {
        "id": "Ywxs2w1vce9e"
      }
    },
    {
      "cell_type": "code",
      "source": [
        "#Identity gate\n",
        "def IDTY(a):\n",
        " if a == 0:\n",
        "   return 0\n",
        " else:\n",
        "   return 1\n",
        "if __name__ == '__main__':\n",
        " print(IDTY(0))\n",
        " print(IDTY(1))"
      ],
      "metadata": {
        "colab": {
          "base_uri": "https://localhost:8080/"
        },
        "id": "2oEeNC1kbO3Z",
        "outputId": "7b92a85f-7331-4fa3-be9f-69918b8b849a"
      },
      "execution_count": null,
      "outputs": [
        {
          "output_type": "stream",
          "name": "stdout",
          "text": [
            "0\n",
            "1\n"
          ]
        }
      ]
    },
    {
      "cell_type": "markdown",
      "source": [
        "As can be seen from the preceding code, after defining the function that can be used\n",
        "to represent the identity, the output is derived from the Identity gate when the inputs\n",
        "are 0 and 1, respectively."
      ],
      "metadata": {
        "id": "eBaztDY5b2eO"
      }
    },
    {
      "cell_type": "markdown",
      "source": [
        "The python code for Hadamard gate as follows:"
      ],
      "metadata": {
        "id": "SSQ-rTo7IoCQ"
      }
    },
    {
      "cell_type": "code",
      "source": [
        "A = np.array([[1], [0]])\n",
        "B = np.array([[0], [1]])\n",
        "A = Qobj(A)\n",
        "B = Qobj(B)\n",
        "H_matrix=1/np.sqrt(2)*np.array([[1, 1],\n",
        "                                [1,-1]])\n",
        "C = H_matrix * A\n",
        "D = H_matrix * B\n",
        "print(C)\n",
        "print(D)"
      ],
      "metadata": {
        "colab": {
          "base_uri": "https://localhost:8080/"
        },
        "id": "p9H1efVCLmZE",
        "outputId": "23c5e3e1-18ef-452f-eaba-cb9672d361af"
      },
      "execution_count": null,
      "outputs": [
        {
          "output_type": "stream",
          "name": "stdout",
          "text": [
            "[[0.70710678+0.j]\n",
            " [0.70710678+0.j]]\n",
            "[[ 0.70710678+0.j]\n",
            " [-0.70710678+0.j]]\n"
          ]
        }
      ]
    },
    {
      "cell_type": "markdown",
      "source": [
        "The Python code for implementing the NOT gate is shown as follows:"
      ],
      "metadata": {
        "id": "PdCKMvP7FRaL"
      }
    },
    {
      "cell_type": "code",
      "source": [
        "#NOT gate\n",
        "def NOT(a):\n",
        " if a == 0:\n",
        "  return 1\n",
        " else:\n",
        "  return 0\n",
        "if __name__ == '__main__':\n",
        " print(NOT(0))\n",
        " print(NOT(1))"
      ],
      "metadata": {
        "colab": {
          "base_uri": "https://localhost:8080/"
        },
        "id": "65DWN9hNE8nl",
        "outputId": "bf0e65e4-752a-40a2-f196-35cc1c6634c4"
      },
      "execution_count": null,
      "outputs": [
        {
          "output_type": "stream",
          "name": "stdout",
          "text": [
            "1\n",
            "0\n"
          ]
        }
      ]
    },
    {
      "cell_type": "markdown",
      "source": [
        "The Python code for the OR gate is shown as follows:"
      ],
      "metadata": {
        "id": "lP12FEUuFjrH"
      }
    },
    {
      "cell_type": "code",
      "source": [
        "#OR gate\n",
        "def OR(a,b):\n",
        " if a == 0 and b == 0:\n",
        "  return 0\n",
        " else:\n",
        "  return 1\n",
        "if __name__ == '__main__':\n",
        " print(OR(0,0))\n",
        " print(OR(0,1))\n",
        " print(OR(1,0))\n",
        " print(OR(1,1))"
      ],
      "metadata": {
        "colab": {
          "base_uri": "https://localhost:8080/"
        },
        "id": "3z2j1ZxwFTqq",
        "outputId": "201b1d4c-8b74-48d4-f1f9-cd5aa428a170"
      },
      "execution_count": null,
      "outputs": [
        {
          "output_type": "stream",
          "name": "stdout",
          "text": [
            "0\n",
            "1\n",
            "1\n",
            "1\n"
          ]
        }
      ]
    },
    {
      "cell_type": "markdown",
      "source": [
        "The Python code for the AND gate is given as follows:"
      ],
      "metadata": {
        "id": "3NTFxRhWFnAB"
      }
    },
    {
      "cell_type": "code",
      "source": [
        "#AND gate\n",
        "def AND(a,b):\n",
        " if a == 1 and b == 1:\n",
        "  return 1\n",
        " else:\n",
        "  return 0\n",
        "if __name__ == '__main__':\n",
        " print(AND(0,0))\n",
        " print(AND(0,1))\n",
        " print(AND(1,0))\n",
        " print(AND(1,1))"
      ],
      "metadata": {
        "colab": {
          "base_uri": "https://localhost:8080/"
        },
        "id": "zCQ_HH8XFtDj",
        "outputId": "9f5ea442-d51f-432f-f6e4-52e5153da725"
      },
      "execution_count": null,
      "outputs": [
        {
          "output_type": "stream",
          "name": "stdout",
          "text": [
            "0\n",
            "0\n",
            "0\n",
            "1\n"
          ]
        }
      ]
    },
    {
      "cell_type": "markdown",
      "source": [
        "The Python code for the XOR gate is given here:"
      ],
      "metadata": {
        "id": "YozzcMsXGDRu"
      }
    },
    {
      "cell_type": "code",
      "source": [
        "#XOR gate\n",
        "def XOR(a,b):\n",
        "  if a != b:\n",
        "   return 1\n",
        "  else:\n",
        "   return 0\n",
        "if __name__ == '__main__':\n",
        "  print(XOR(0,0))\n",
        "  print(XOR(0,1))\n",
        "  print(XOR(1,0))\n",
        "  print(XOR(1,1))"
      ],
      "metadata": {
        "colab": {
          "base_uri": "https://localhost:8080/"
        },
        "id": "Ox3oYKf_GBtq",
        "outputId": "4fbf162b-2bce-4b8e-f20c-8b2fac43657c"
      },
      "execution_count": null,
      "outputs": [
        {
          "output_type": "stream",
          "name": "stdout",
          "text": [
            "0\n",
            "1\n",
            "1\n",
            "0\n"
          ]
        }
      ]
    },
    {
      "cell_type": "markdown",
      "source": [
        "The Python code for the NOR gate is given as follows:"
      ],
      "metadata": {
        "id": "KEtQcSN7G_Zp"
      }
    },
    {
      "cell_type": "code",
      "source": [
        "#NOR gate\n",
        "def NOR(a,b):\n",
        "  if a == 0 and b == 0:\n",
        "   return 1\n",
        "  else:\n",
        "   return 0\n",
        "if __name__ == '__main__':\n",
        " print(NOR(0,0))\n",
        " print(NOR(0,1))\n",
        " print(NOR(1,0))\n",
        " print(NOR(1,1))"
      ],
      "metadata": {
        "colab": {
          "base_uri": "https://localhost:8080/"
        },
        "id": "c3139Z7VHCDG",
        "outputId": "a9de3d26-2f2d-4726-abe8-e59ea11c499d"
      },
      "execution_count": null,
      "outputs": [
        {
          "output_type": "stream",
          "name": "stdout",
          "text": [
            "1\n",
            "0\n",
            "0\n",
            "0\n"
          ]
        }
      ]
    },
    {
      "cell_type": "markdown",
      "source": [
        "The python code for NAND gate as follows:"
      ],
      "metadata": {
        "id": "Mdegt1qbIepY"
      }
    },
    {
      "cell_type": "code",
      "source": [
        "#NAND gate\n",
        "def NAND(a,b):\n",
        "  if a == 1 and b == 1:\n",
        "   return 0\n",
        "  else:\n",
        "   return 1\n",
        "if __name__ == '__main__':\n",
        " print(NAND(0,0))\n",
        " print(NAND(0,1))\n",
        " print(NAND(1,0))\n",
        " print(NAND(1,1))"
      ],
      "metadata": {
        "colab": {
          "base_uri": "https://localhost:8080/"
        },
        "id": "qveD_DI8HkWg",
        "outputId": "7cb76eec-7e95-48c9-8ff9-0c0ff8c8cb82"
      },
      "execution_count": null,
      "outputs": [
        {
          "output_type": "stream",
          "name": "stdout",
          "text": [
            "1\n",
            "1\n",
            "1\n",
            "0\n"
          ]
        }
      ]
    }
  ]
}